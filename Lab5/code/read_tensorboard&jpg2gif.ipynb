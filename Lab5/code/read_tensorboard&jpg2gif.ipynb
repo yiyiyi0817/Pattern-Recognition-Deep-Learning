{
 "cells": [
  {
   "cell_type": "code",
   "execution_count": 2,
   "id": "dcae66e1-8db4-46df-b8b6-436d5a666e90",
   "metadata": {},
   "outputs": [
    {
     "data": {
      "text/plain": [
       "Reusing TensorBoard on port 5232 (pid 10860), started 0:06:05 ago. (Use '!kill 10860' to kill it.)"
      ]
     },
     "metadata": {},
     "output_type": "display_data"
    },
    {
     "data": {
      "text/html": [
       "\n",
       "        <iframe id=\"tensorboard-frame-edf8cfc6f338abe8\" width=\"100%\" height=\"800\" frameborder=\"0\">\n",
       "        </iframe>\n",
       "        <script>\n",
       "            (function() {\n",
       "            const frame = document.getElementById(\"tensorboard-frame-edf8cfc6f338abe8\");\n",
       "            const url = new URL(\"/c4f2050c-c84d-4373-afab-a3fd3f0f456b/proxy/5232/\", window.location);\n",
       "            const port = 0;\n",
       "            if (port) {\n",
       "                url.port = port;\n",
       "            }\n",
       "            frame.src = url;\n",
       "            })();\n",
       "        </script>\n",
       "    "
      ],
      "text/plain": [
       "<IPython.core.display.HTML object>"
      ]
     },
     "metadata": {},
     "output_type": "display_data"
    }
   ],
   "source": [
    "%reload_ext ma_tensorboard\n",
    "%ma_tensorboard  --logdir 'runs' --port 5232"
   ]
  },
  {
   "cell_type": "code",
   "execution_count": 10,
   "id": "9d12aa67-1798-422c-917c-ba6d1d9ba4cf",
   "metadata": {},
   "outputs": [],
   "source": [
    "import os\n",
    "import imageio\n",
    "from PIL import Image\n",
    "\n",
    "# 定义图片所在文件夹路径\n",
    "img_folder = 'plot_result/WGAN-GP'\n",
    "# 定义保存图片的文件夹路径\n",
    "save_folder = 'plot_result/WGAN-GP'\n",
    "# 定义GIF文件名\n",
    "gif_name = 'WGAN-GP.gif'\n",
    "# 定义GIF播放速度\n",
    "gif_duration = 0.1\n",
    "\n",
    "# 获取图片文件名列表，并按照字典序排序\n",
    "img_list = sorted(os.listdir(img_folder))\n",
    "#data_paths = [os.path.join(in_dir, f) for f in os.listdir(in_dir) if os.path.isfile(os.path.join(in_dir, f))]\n",
    "\n",
    "\n",
    "# 创建一个空列表，用于存储处理后的图片\n",
    "images = []\n",
    "# 遍历图片文件名列表\n",
    "for img in img_list:\n",
    "    # 读取图片\n",
    "    if os.path.isfile(os.path.join(img_folder, img)):\n",
    "        image = Image.open(os.path.join(img_folder, img))\n",
    "        # # 调整图片尺寸为300*300\n",
    "        # image = image.resize((300, 300))\n",
    "        # 将图片转换为RGB模式\n",
    "        image = image.convert('RGB')\n",
    "        # 将图片添加到列表中\n",
    "        images.append(image)\n",
    "# 将列表中的图片保存为GIF格式\n",
    "imageio.mimsave(os.path.join(save_folder, gif_name), images, duration=gif_duration)\n"
   ]
  }
 ],
 "metadata": {
  "kernelspec": {
   "display_name": "PyTorch-1.8",
   "language": "python",
   "name": "pytorch-1.8"
  },
  "language_info": {
   "codemirror_mode": {
    "name": "ipython",
    "version": 3
   },
   "file_extension": ".py",
   "mimetype": "text/x-python",
   "name": "python",
   "nbconvert_exporter": "python",
   "pygments_lexer": "ipython3",
   "version": "3.7.10"
  }
 },
 "nbformat": 4,
 "nbformat_minor": 5
}
